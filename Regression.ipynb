{
 "cells": [
  {
   "cell_type": "markdown",
   "id": "4a9e0581",
   "metadata": {},
   "source": [
    "# ITD105 CASE STUDY #1\n",
    "### Comparing Machine Learning Algorithms\n",
    "Name: Allan Raymart C. Paraiso <br>\n",
    "Dataset Name: Insurance Cost <br>\n",
    "Dataset Type: Regression <br>"
   ]
  },
  {
   "cell_type": "markdown",
   "id": "5bf27b7e",
   "metadata": {},
   "source": [
    "### SET A\n",
    "- Resampling Technique: Train/Test Split (80:20)\n",
    "- Regression Metrics: Mean Absolute Error (MAE)"
   ]
  },
  {
   "cell_type": "markdown",
   "id": "be91b8e5",
   "metadata": {},
   "source": [
    "#### 1. CART (Classification and Regression Trees)"
   ]
  },
  {
   "cell_type": "code",
   "execution_count": 66,
   "id": "0149fea6",
   "metadata": {},
   "outputs": [
    {
     "name": "stdout",
     "output_type": "stream",
     "text": [
      "Mean Absolute Error (MAE): 2651.093\n"
     ]
    }
   ],
   "source": [
    "from pandas import read_csv\n",
    "from sklearn.model_selection import train_test_split\n",
    "from sklearn.tree import DecisionTreeRegressor\n",
    "from sklearn.metrics import mean_absolute_error\n",
    "\n",
    "# Loading the dataset\n",
    "filename = 'insurance.csv'\n",
    "dataframe = read_csv(filename)\n",
    "\n",
    "# Selecting features and target variable\n",
    "X = dataframe[['age', 'sex', 'bmi', 'children', 'smoker','region']]  # Features\n",
    "Y = dataframe['charges']  # Target variable\n",
    "\n",
    "# Splitting the dataset into a training set and a testing set (80:20 split)\n",
    "X_train, X_test, Y_train, Y_test = train_test_split(X, Y, test_size=0.2, random_state=50)\n",
    "\n",
    "# Decision Tree Regressor\n",
    "model = DecisionTreeRegressor(random_state=50)\n",
    "\n",
    "# Training the model on the training data\n",
    "model.fit(X_train, Y_train)\n",
    "\n",
    "# Making predictions on the test data\n",
    "Y_pred = model.predict(X_test)\n",
    "\n",
    "# Calculating the Mean Absolute Error (MAE)\n",
    "mae = mean_absolute_error(Y_test, Y_pred)\n",
    "print(f\"Mean Absolute Error (MAE): {mae:.3f}\")\n"
   ]
  },
  {
   "cell_type": "markdown",
   "id": "b78a0399",
   "metadata": {},
   "source": [
    "#### 2. Elastic Net"
   ]
  },
  {
   "cell_type": "code",
   "execution_count": 67,
   "id": "ad2dd40c",
   "metadata": {},
   "outputs": [
    {
     "name": "stdout",
     "output_type": "stream",
     "text": [
      "Mean Absolute Error (MAE): 7423.916\n"
     ]
    }
   ],
   "source": [
    "from pandas import read_csv\n",
    "from sklearn.model_selection import train_test_split\n",
    "from sklearn.linear_model import ElasticNet\n",
    "from sklearn.metrics import mean_absolute_error\n",
    "\n",
    "# Loading the dataset\n",
    "filename = 'insurance.csv'\n",
    "dataframe = read_csv(filename)\n",
    "\n",
    "# Selecting features and target variable\n",
    "X = dataframe[['age', 'sex', 'bmi', 'children', 'smoker','region']]  # Features\n",
    "Y = dataframe['charges']  # Target variable\n",
    "\n",
    "\n",
    "# Splitting the data into a training set and a testing set (80:20 split)\n",
    "X_train, X_test, Y_train, Y_test = train_test_split(X, Y, test_size=0.20, random_state=50)\n",
    "\n",
    "# Elastic Net model\n",
    "model = ElasticNet(alpha=1.0, l1_ratio=0.5, random_state=50)  \n",
    "model.fit(X_train, Y_train)\n",
    "\n",
    "# Making predictions on the test data\n",
    "Y_pred = model.predict(X_test)\n",
    "\n",
    "# Calculating the Mean Absolute Error (MAE)\n",
    "mae = mean_absolute_error(Y_test, Y_pred)\n",
    "print(f\"Mean Absolute Error (MAE): {mae:.3f}\")"
   ]
  },
  {
   "cell_type": "markdown",
   "id": "722666c4",
   "metadata": {},
   "source": [
    "#### 3. Gradient Boosting Machines (AdaBoost)"
   ]
  },
  {
   "cell_type": "code",
   "execution_count": 68,
   "id": "8ede6298",
   "metadata": {},
   "outputs": [
    {
     "name": "stdout",
     "output_type": "stream",
     "text": [
      "Mean Absolute Error (MAE): 3922.616\n"
     ]
    }
   ],
   "source": [
    "from pandas import read_csv\n",
    "from sklearn.model_selection import train_test_split\n",
    "from sklearn.ensemble import AdaBoostRegressor\n",
    "from sklearn.metrics import mean_absolute_error\n",
    "\n",
    "# Loading the dataset\n",
    "filename = 'insurance.csv'\n",
    "dataframe = read_csv(filename)\n",
    "\n",
    "# Selecting features and target variable\n",
    "X = dataframe[['age', 'sex', 'bmi', 'children', 'smoker','region']]  # Features\n",
    "Y = dataframe['charges']  # Target variable\n",
    "\n",
    "\n",
    "# Splitting the data into a training set and a testing set (80:20 split)\n",
    "X_train, X_test, Y_train, Y_test = train_test_split(X, Y, test_size=0.20, random_state=50)\n",
    "\n",
    "# AdaBoost Regressor model\n",
    "model = AdaBoostRegressor(n_estimators=50, random_state=50)  \n",
    "model.fit(X_train, Y_train)\n",
    "\n",
    "# Making predictions on the test data\n",
    "Y_pred = model.predict(X_test)\n",
    "\n",
    "# Calculating the Mean Absolute Error (MAE)\n",
    "mae = mean_absolute_error(Y_test, Y_pred)\n",
    "print(f\"Mean Absolute Error (MAE): {mae:.3f}\")"
   ]
  },
  {
   "cell_type": "markdown",
   "id": "06d286a5",
   "metadata": {},
   "source": [
    "#### 4. K-Nearest Neighbors (K-NN)"
   ]
  },
  {
   "cell_type": "code",
   "execution_count": 69,
   "id": "9d3a7942",
   "metadata": {},
   "outputs": [
    {
     "name": "stdout",
     "output_type": "stream",
     "text": [
      "Mean Absolute Error (MAE): 7872.695\n"
     ]
    }
   ],
   "source": [
    "from pandas import read_csv\n",
    "from sklearn.model_selection import train_test_split\n",
    "from sklearn.neighbors import KNeighborsRegressor\n",
    "from sklearn.metrics import mean_absolute_error\n",
    "\n",
    "# Loading the dataset\n",
    "filename = 'insurance.csv'\n",
    "dataframe = read_csv(filename)\n",
    "\n",
    "# Selecting features and target variable\n",
    "X = dataframe[['age', 'sex', 'bmi', 'children', 'smoker','region']]  # Features\n",
    "Y = dataframe['charges']  # Target variable\n",
    "\n",
    "\n",
    "# Spliting the data into a training set and a testing set (80:20 split)\n",
    "X_train, X_test, Y_train, Y_test = train_test_split(X, Y, test_size=0.20, random_state=50)\n",
    "\n",
    "# K-Nearest Neighbors (K-NN) Regressor model\n",
    "model = KNeighborsRegressor(n_neighbors=5)  \n",
    "model.fit(X_train, Y_train)\n",
    "\n",
    "# Making predictions on the test data\n",
    "Y_pred = model.predict(X_test)\n",
    "\n",
    "# Calculating the Mean Absolute Error (MAE)\n",
    "mae = mean_absolute_error(Y_test, Y_pred)\n",
    "print(f\"Mean Absolute Error (MAE): {mae:.3f}\")"
   ]
  },
  {
   "cell_type": "markdown",
   "id": "46eb37de",
   "metadata": {},
   "source": [
    "#### 5. Lasso Regression"
   ]
  },
  {
   "cell_type": "code",
   "execution_count": 70,
   "id": "9f5adc1d",
   "metadata": {},
   "outputs": [
    {
     "name": "stdout",
     "output_type": "stream",
     "text": [
      "Mean Absolute Error (MAE): 3972.271\n"
     ]
    }
   ],
   "source": [
    "from pandas import read_csv\n",
    "from sklearn.model_selection import train_test_split\n",
    "from sklearn.linear_model import Lasso\n",
    "from sklearn.metrics import mean_absolute_error\n",
    "\n",
    "# Loading the dataset\n",
    "filename = 'insurance.csv'\n",
    "dataframe = read_csv(filename)\n",
    "\n",
    "# Selecting features and target variable\n",
    "X = dataframe[['age', 'sex', 'bmi', 'children', 'smoker','region']]  # Features\n",
    "Y = dataframe['charges']  # Target variable\n",
    "\n",
    "\n",
    "# Splitting the data into a training set and a testing set (80:20 split)\n",
    "X_train, X_test, Y_train, Y_test = train_test_split(X, Y, test_size=0.20, random_state=50)\n",
    "\n",
    "# Lasso Regression model\n",
    "model = Lasso(alpha=1.0)  \n",
    "model.fit(X_train, Y_train)\n",
    "\n",
    "# Making predictions on the test data\n",
    "Y_pred = model.predict(X_test)\n",
    "\n",
    "# Calculating the Mean Absolute Error (MAE)\n",
    "mae = mean_absolute_error(Y_test, Y_pred)\n",
    "print(f\"Mean Absolute Error (MAE): {mae:.3f}\")"
   ]
  },
  {
   "cell_type": "markdown",
   "id": "fbef099e",
   "metadata": {},
   "source": [
    "#### 6. Ridge Regression"
   ]
  },
  {
   "cell_type": "code",
   "execution_count": 71,
   "id": "e5fe2d4d",
   "metadata": {},
   "outputs": [
    {
     "name": "stdout",
     "output_type": "stream",
     "text": [
      "Mean Absolute Error (MAE): 3984.913\n"
     ]
    }
   ],
   "source": [
    "from pandas import read_csv\n",
    "from sklearn.model_selection import train_test_split\n",
    "from sklearn.linear_model import Ridge\n",
    "from sklearn.metrics import mean_absolute_error\n",
    "\n",
    "# Loading the dataset\n",
    "filename = 'insurance.csv'\n",
    "dataframe = read_csv(filename)\n",
    "\n",
    "# Selecting features and target variable\n",
    "X = dataframe[['age', 'sex', 'bmi', 'children', 'smoker','region']]  # Features\n",
    "Y = dataframe['charges']  # Target variable\n",
    "\n",
    "\n",
    "# Split the data into a training set and a testing set (80:20 split)\n",
    "X_train, X_test, Y_train, Y_test = train_test_split(X, Y, test_size=0.20, random_state=50)\n",
    "\n",
    "# Ridge Regression model\n",
    "model = Ridge(alpha=1.0)  \n",
    "\n",
    "# Training the model on the training data\n",
    "model.fit(X_train, Y_train)\n",
    "\n",
    "# Making predictions on the test data\n",
    "Y_pred = model.predict(X_test)\n",
    "\n",
    "# Calculating the Mean Absolute Error (MAE)\n",
    "mae = mean_absolute_error(Y_test, Y_pred)\n",
    "print(f\"Mean Absolute Error (MAE): {mae:.3f}\")"
   ]
  },
  {
   "cell_type": "markdown",
   "id": "cbca08d1",
   "metadata": {},
   "source": [
    "#### 7. Linear Regression"
   ]
  },
  {
   "cell_type": "code",
   "execution_count": 72,
   "id": "38de68d1",
   "metadata": {},
   "outputs": [
    {
     "name": "stdout",
     "output_type": "stream",
     "text": [
      "Mean Absolute Error (MAE): 3971.629\n"
     ]
    }
   ],
   "source": [
    "from pandas import read_csv\n",
    "from sklearn.model_selection import train_test_split\n",
    "from sklearn.linear_model import LinearRegression\n",
    "from sklearn.metrics import mean_absolute_error\n",
    "\n",
    "# Loading the dataset\n",
    "filename = 'insurance.csv'\n",
    "dataframe = read_csv(filename)\n",
    "\n",
    "# Selecting features and target variable\n",
    "X = dataframe[['age', 'sex', 'bmi', 'children', 'smoker','region']]  # Features\n",
    "Y = dataframe['charges']  # Target variable\n",
    "\n",
    "\n",
    "# Splitting the data into a training set and a testing set (80:20 split)\n",
    "X_train, X_test, Y_train, Y_test = train_test_split(X, Y, test_size=0.20, random_state=50)\n",
    "\n",
    "# Linear Regression model\n",
    "model = LinearRegression()\n",
    "\n",
    "# Training the model on the training data\n",
    "model.fit(X_train, Y_train)\n",
    "\n",
    "# Making predictions on the test data\n",
    "Y_pred = model.predict(X_test)\n",
    "\n",
    "# Calculating the Mean Absolute Error (MAE)\n",
    "mae = mean_absolute_error(Y_test, Y_pred)\n",
    "print(f\"Mean Absolute Error (MAE): {mae:.3f}\")"
   ]
  },
  {
   "cell_type": "markdown",
   "id": "e5cd0a53",
   "metadata": {},
   "source": [
    "#### 8. Multi-Layer Perceptron (MLP)"
   ]
  },
  {
   "cell_type": "code",
   "execution_count": 73,
   "id": "322e9780",
   "metadata": {},
   "outputs": [
    {
     "name": "stdout",
     "output_type": "stream",
     "text": [
      "Mean Absolute Error (MAE): 3970.469\n"
     ]
    },
    {
     "name": "stderr",
     "output_type": "stream",
     "text": [
      "c:\\Users\\ACER\\AppData\\Local\\Programs\\Python\\Python312\\Lib\\site-packages\\sklearn\\neural_network\\_multilayer_perceptron.py:691: ConvergenceWarning: Stochastic Optimizer: Maximum iterations (1000) reached and the optimization hasn't converged yet.\n",
      "  warnings.warn(\n"
     ]
    }
   ],
   "source": [
    "from pandas import read_csv\n",
    "from sklearn.model_selection import train_test_split\n",
    "from sklearn.neural_network import MLPRegressor\n",
    "from sklearn.metrics import mean_absolute_error\n",
    "\n",
    "# Loading the dataset\n",
    "filename = 'insurance.csv'\n",
    "dataframe = read_csv(filename)\n",
    "\n",
    "# Selecting features and target variable\n",
    "X = dataframe[['age', 'sex', 'bmi', 'children', 'smoker','region']]  # Features\n",
    "Y = dataframe['charges']  # Target variable\n",
    "\n",
    "\n",
    "# Splitting the data into a training set and a testing set (80:20 split)\n",
    "X_train, X_test, Y_train, Y_test = train_test_split(X, Y, test_size=0.20, random_state=42)\n",
    "\n",
    "# Multi-Layer Perceptron (MLP) Regressor model\n",
    "model = MLPRegressor(hidden_layer_sizes=(100, 50), activation='relu', solver='adam', max_iter=1000, random_state=42)\n",
    "\n",
    "# Training the model on the training data\n",
    "model.fit(X_train, Y_train)\n",
    "\n",
    "# Making predictions on the test data\n",
    "Y_pred = model.predict(X_test)\n",
    "\n",
    "# Calculating the Mean Absolute Error (MAE)\n",
    "mae = mean_absolute_error(Y_test, Y_pred)\n",
    "print(f\"Mean Absolute Error (MAE): {mae:.3f}\")"
   ]
  },
  {
   "cell_type": "markdown",
   "id": "52b6981f",
   "metadata": {},
   "source": [
    "#### 9. Random Forest"
   ]
  },
  {
   "cell_type": "code",
   "execution_count": 74,
   "id": "eb65ba8b",
   "metadata": {},
   "outputs": [
    {
     "name": "stdout",
     "output_type": "stream",
     "text": [
      "Mean Absolute Error (MAE): 2575.167\n"
     ]
    }
   ],
   "source": [
    "from pandas import read_csv\n",
    "from sklearn.model_selection import train_test_split\n",
    "from sklearn.ensemble import RandomForestRegressor\n",
    "from sklearn.metrics import mean_absolute_error\n",
    "\n",
    "# Loading the dataset\n",
    "filename = 'insurance.csv'\n",
    "dataframe = read_csv(filename)\n",
    "\n",
    "# Selecting features and target variable\n",
    "X = dataframe[['age', 'sex', 'bmi', 'children', 'smoker','region']]  # Features\n",
    "Y = dataframe['charges']  # Target variable\n",
    "\n",
    "\n",
    "# Splitting the data into a training set and a testing set (80:20 split)\n",
    "X_train, X_test, Y_train, Y_test = train_test_split(X, Y, test_size=0.20, random_state=50)\n",
    "\n",
    "# Random Forest Regressor model\n",
    "model = RandomForestRegressor(n_estimators=100, random_state=50)\n",
    "\n",
    "# Training the model on the training data\n",
    "model.fit(X_train, Y_train)\n",
    "\n",
    "# Making predictions on the test data\n",
    "Y_pred = model.predict(X_test)\n",
    "\n",
    "# Calculating the Mean Absolute Error (MAE)\n",
    "mae = mean_absolute_error(Y_test, Y_pred)\n",
    "print(f\"Mean Absolute Error (MAE): {mae:.3f}\")"
   ]
  },
  {
   "cell_type": "markdown",
   "id": "acc431fd",
   "metadata": {},
   "source": [
    "### SET B\n",
    "- Resampling Technique: K-Fold Cross-Validation\n",
    "- Regression Metrics: Mean Squared Error (MSE)"
   ]
  },
  {
   "cell_type": "markdown",
   "id": "19f6858d",
   "metadata": {},
   "source": [
    "#### 1. CART (Classification and Regression Trees)"
   ]
  },
  {
   "cell_type": "code",
   "execution_count": 75,
   "id": "1a361684",
   "metadata": {},
   "outputs": [
    {
     "name": "stdout",
     "output_type": "stream",
     "text": [
      "Fold 1 - Mean Squared Error (MSE): 46384985.612\n",
      "Fold 2 - Mean Squared Error (MSE): 31937414.029\n",
      "Fold 3 - Mean Squared Error (MSE): 43545523.251\n",
      "Fold 4 - Mean Squared Error (MSE): 54299403.863\n",
      "Fold 5 - Mean Squared Error (MSE): 48009707.537\n",
      "Fold 6 - Mean Squared Error (MSE): 44944175.901\n",
      "Fold 7 - Mean Squared Error (MSE): 37748030.552\n",
      "Fold 8 - Mean Squared Error (MSE): 41642946.183\n",
      "Fold 9 - Mean Squared Error (MSE): 45994270.061\n",
      "Fold 10 - Mean Squared Error (MSE): 47927535.007\n",
      "Mean MSE across all folds: 44243399.200\n"
     ]
    }
   ],
   "source": [
    "from pandas import read_csv\n",
    "from sklearn.model_selection import KFold\n",
    "from sklearn.tree import DecisionTreeRegressor\n",
    "from sklearn.metrics import mean_squared_error\n",
    "import numpy as np\n",
    "\n",
    "# Loading the dataset\n",
    "filename = 'insurance.csv'\n",
    "dataframe = read_csv(filename)\n",
    "array = dataframe.values\n",
    "X = array[:, 0:5]  # Features\n",
    "Y = array[:, 6]  # Target\n",
    "\n",
    "# Number of folds for K-Fold Cross Validation\n",
    "num_folds = 10\n",
    "mse_scores = []\n",
    "\n",
    "# CART (Decision Tree Regressor) model\n",
    "model = DecisionTreeRegressor()\n",
    "\n",
    "# Initializing the K-Fold cross-validator\n",
    "kf = KFold(n_splits=num_folds, shuffle=True, random_state=42)\n",
    "\n",
    "# Performing K-Fold Cross Validation\n",
    "for train_index, test_index in kf.split(X):\n",
    "    X_train, X_test = X[train_index], X[test_index]\n",
    "    Y_train, Y_test = Y[train_index], Y[test_index]\n",
    "\n",
    "    # Training the model on the training data\n",
    "    model.fit(X_train, Y_train)\n",
    "\n",
    "    # Making predictions on the test data\n",
    "    Y_pred = model.predict(X_test)\n",
    "\n",
    "    # Calculating the Mean Squared Error (MSE) for this fold\n",
    "    mse = mean_squared_error(Y_test, Y_pred)\n",
    "    mse_scores.append(mse)\n",
    "\n",
    "# Calculating the mean MSE across all folds\n",
    "mean_mse = np.mean(mse_scores)\n",
    "\n",
    "# Displaying the MSE for each fold\n",
    "for fold, mse in enumerate(mse_scores, start=1):\n",
    "    print(f\"Fold {fold} - Mean Squared Error (MSE): {mse:.3f}\")\n",
    "\n",
    "# Displaying the mean MSE across all folds\n",
    "print(f\"Mean MSE across all folds: {mean_mse:.3f}\")"
   ]
  },
  {
   "cell_type": "markdown",
   "id": "b9e0b468",
   "metadata": {},
   "source": [
    "#### 2. Elastic Net"
   ]
  },
  {
   "cell_type": "code",
   "execution_count": 76,
   "id": "67c3838d",
   "metadata": {},
   "outputs": [
    {
     "name": "stdout",
     "output_type": "stream",
     "text": [
      "Fold 1 - Mean Squared Error (MSE): 80625515.187\n",
      "Fold 2 - Mean Squared Error (MSE): 109085227.723\n",
      "Fold 3 - Mean Squared Error (MSE): 103484457.802\n",
      "Fold 4 - Mean Squared Error (MSE): 74671879.653\n",
      "Fold 5 - Mean Squared Error (MSE): 85598839.611\n",
      "Fold 6 - Mean Squared Error (MSE): 91482166.743\n",
      "Fold 7 - Mean Squared Error (MSE): 88585041.027\n",
      "Fold 8 - Mean Squared Error (MSE): 113077994.736\n",
      "Fold 9 - Mean Squared Error (MSE): 81208205.421\n",
      "Fold 10 - Mean Squared Error (MSE): 70071423.439\n",
      "Mean MSE across all folds: 89789075.134\n"
     ]
    }
   ],
   "source": [
    "from pandas import read_csv\n",
    "from sklearn.model_selection import KFold\n",
    "from sklearn.linear_model import ElasticNet\n",
    "from sklearn.metrics import mean_squared_error\n",
    "import numpy as np\n",
    "\n",
    "# Loading the dataset\n",
    "filename = 'insurance.csv'\n",
    "dataframe = read_csv(filename)\n",
    "array = dataframe.values\n",
    "X = array[:, 0:5]  # Features\n",
    "Y = array[:, 6]  # Target\n",
    "\n",
    "# Number of folds for K-Fold Cross Validation\n",
    "num_folds = 10\n",
    "mse_scores = []\n",
    "\n",
    "# Elastic Net model\n",
    "model = ElasticNet(alpha=1.0, l1_ratio=0.5)\n",
    "\n",
    "# Initializing the K-Fold cross-validator\n",
    "kf = KFold(n_splits=num_folds, shuffle=True, random_state=50)\n",
    "\n",
    "# Performing K-Fold Cross Validation\n",
    "for train_index, test_index in kf.split(X):\n",
    "    X_train, X_test = X[train_index], X[test_index]\n",
    "    Y_train, Y_test = Y[train_index], Y[test_index]\n",
    "\n",
    "    # Train the model on the training data\n",
    "    model.fit(X_train, Y_train)\n",
    "\n",
    "    # Make predictions on the test data\n",
    "    Y_pred = model.predict(X_test)\n",
    "\n",
    "    # Calculate the Mean Squared Error (MSE) for this fold\n",
    "    mse = mean_squared_error(Y_test, Y_pred)\n",
    "    mse_scores.append(mse)\n",
    "\n",
    "# Calculate the mean MSE across all folds\n",
    "mean_mse = np.mean(mse_scores)\n",
    "\n",
    "# Display the MSE for each fold\n",
    "for fold, mse in enumerate(mse_scores, start=1):\n",
    "    print(f\"Fold {fold} - Mean Squared Error (MSE): {mse:.3f}\")\n",
    "\n",
    "# Display the mean MSE across all folds\n",
    "print(f\"Mean MSE across all folds: {mean_mse:.3f}\")\n"
   ]
  },
  {
   "cell_type": "markdown",
   "id": "97dc325f",
   "metadata": {},
   "source": [
    "#### 3. Gradient Boosting Machines (AdaBoost)"
   ]
  },
  {
   "cell_type": "code",
   "execution_count": 77,
   "id": "b96f8cea",
   "metadata": {},
   "outputs": [
    {
     "name": "stdout",
     "output_type": "stream",
     "text": [
      "Fold 1 - Mean Squared Error (MSE): 25352470.148\n",
      "Fold 2 - Mean Squared Error (MSE): 25028263.948\n",
      "Fold 3 - Mean Squared Error (MSE): 23599945.191\n",
      "Fold 4 - Mean Squared Error (MSE): 26549615.885\n",
      "Fold 5 - Mean Squared Error (MSE): 23058028.890\n",
      "Fold 6 - Mean Squared Error (MSE): 25241173.348\n",
      "Fold 7 - Mean Squared Error (MSE): 20097805.926\n",
      "Fold 8 - Mean Squared Error (MSE): 26967477.739\n",
      "Fold 9 - Mean Squared Error (MSE): 33560961.683\n",
      "Fold 10 - Mean Squared Error (MSE): 22506811.207\n",
      "Mean MSE across all folds: 25196255.396\n"
     ]
    }
   ],
   "source": [
    "from pandas import read_csv\n",
    "from sklearn.model_selection import KFold\n",
    "from sklearn.ensemble import AdaBoostRegressor\n",
    "from sklearn.metrics import mean_squared_error\n",
    "import numpy as np\n",
    "\n",
    "# Loading the dataset\n",
    "filename = 'insurance.csv'\n",
    "dataframe = read_csv(filename)\n",
    "array = dataframe.values\n",
    "X = array[:, 0:5]  # Features\n",
    "Y = array[:, 6]  # Target\n",
    "\n",
    "# Number of folds for K-Fold Cross Validation\n",
    "num_folds = 10\n",
    "mse_scores = []\n",
    "\n",
    "# AdaBoost Regressor model\n",
    "model = AdaBoostRegressor(n_estimators=50, random_state=42)\n",
    "\n",
    "# Initializing the K-Fold cross-validator\n",
    "kf = KFold(n_splits=num_folds, shuffle=True, random_state=42)\n",
    "\n",
    "# Performing K-Fold Cross Validation\n",
    "for train_index, test_index in kf.split(X):\n",
    "    X_train, X_test = X[train_index], X[test_index]\n",
    "    Y_train, Y_test = Y[train_index], Y[test_index]\n",
    "\n",
    "    # Training the model on the training data\n",
    "    model.fit(X_train, Y_train)\n",
    "\n",
    "    # Making predictions on the test data\n",
    "    Y_pred = model.predict(X_test)\n",
    "\n",
    "    # Calculating the Mean Squared Error (MSE) for this fold\n",
    "    mse = mean_squared_error(Y_test, Y_pred)\n",
    "    mse_scores.append(mse)\n",
    "\n",
    "# Calculating the mean MSE across all folds\n",
    "mean_mse = np.mean(mse_scores)\n",
    "\n",
    "# Displaying the MSE for each fold\n",
    "for fold, mse in enumerate(mse_scores, start=1):\n",
    "    print(f\"Fold {fold} - Mean Squared Error (MSE): {mse:.3f}\")\n",
    "\n",
    "# Display the mean MSE across all folds\n",
    "print(f\"Mean MSE across all folds: {mean_mse:.3f}\")"
   ]
  },
  {
   "cell_type": "markdown",
   "id": "d5576889",
   "metadata": {},
   "source": [
    "#### 4. K-Nearest Neighbors (K-NN)"
   ]
  },
  {
   "cell_type": "code",
   "execution_count": 78,
   "id": "941b7213",
   "metadata": {},
   "outputs": [
    {
     "name": "stdout",
     "output_type": "stream",
     "text": [
      "Fold 1 - Mean Squared Error (MSE): 99950405.272\n",
      "Fold 2 - Mean Squared Error (MSE): 150531410.352\n",
      "Fold 3 - Mean Squared Error (MSE): 107432288.160\n",
      "Fold 4 - Mean Squared Error (MSE): 138514281.647\n",
      "Fold 5 - Mean Squared Error (MSE): 142959734.435\n",
      "Fold 6 - Mean Squared Error (MSE): 115358753.500\n",
      "Fold 7 - Mean Squared Error (MSE): 104743715.588\n",
      "Fold 8 - Mean Squared Error (MSE): 91142269.190\n",
      "Fold 9 - Mean Squared Error (MSE): 157227758.715\n",
      "Fold 10 - Mean Squared Error (MSE): 106363626.404\n",
      "Mean MSE across all folds: 121422424.326\n"
     ]
    }
   ],
   "source": [
    "from pandas import read_csv\n",
    "from sklearn.model_selection import KFold\n",
    "from sklearn.neighbors import KNeighborsRegressor\n",
    "from sklearn.metrics import mean_squared_error\n",
    "import numpy as np\n",
    "\n",
    "# Loading the dataset\n",
    "filename = 'insurance.csv'\n",
    "dataframe = read_csv(filename)\n",
    "array = dataframe.values\n",
    "X = array[:, 0:5]  # Features\n",
    "Y = array[:, 6]  # Target\n",
    "\n",
    "# Number of folds for K-Fold Cross Validation\n",
    "num_folds = 10\n",
    "mse_scores = []\n",
    "\n",
    "# Create a K-Nearest Neighbors (K-NN) Regressor model\n",
    "model = KNeighborsRegressor(n_neighbors=5)  \n",
    "\n",
    "# Initialize the K-Fold cross-validator\n",
    "kf = KFold(n_splits=num_folds, shuffle=True, random_state=42)\n",
    "\n",
    "# Perform K-Fold Cross Validation\n",
    "for train_index, test_index in kf.split(X):\n",
    "    X_train, X_test = X[train_index], X[test_index]\n",
    "    Y_train, Y_test = Y[train_index], Y[test_index]\n",
    "\n",
    "    # Train the model on the training data\n",
    "    model.fit(X_train, Y_train)\n",
    "\n",
    "    # Make predictions on the test data\n",
    "    Y_pred = model.predict(X_test)\n",
    "\n",
    "    # Calculate the Mean Squared Error (MSE) for this fold\n",
    "    mse = mean_squared_error(Y_test, Y_pred)\n",
    "    mse_scores.append(mse)\n",
    "\n",
    "# Calculate the mean MSE across all folds\n",
    "mean_mse = np.mean(mse_scores)\n",
    "\n",
    "# Display the MSE for each fold\n",
    "for fold, mse in enumerate(mse_scores, start=1):\n",
    "    print(f\"Fold {fold} - Mean Squared Error (MSE): {mse:.3f}\")\n",
    "\n",
    "# Display the mean MSE across all folds\n",
    "print(f\"Mean MSE across all folds: {mean_mse:.3f}\")"
   ]
  },
  {
   "cell_type": "markdown",
   "id": "eed51aa4",
   "metadata": {},
   "source": [
    "#### 5. Lasso Regression"
   ]
  },
  {
   "cell_type": "code",
   "execution_count": 79,
   "id": "d885e252",
   "metadata": {},
   "outputs": [
    {
     "name": "stdout",
     "output_type": "stream",
     "text": [
      "Fold 1 - Mean Squared Error (MSE): 32799214.424\n",
      "Fold 2 - Mean Squared Error (MSE): 35708802.602\n",
      "Fold 3 - Mean Squared Error (MSE): 33784824.638\n",
      "Fold 4 - Mean Squared Error (MSE): 40351588.540\n",
      "Fold 5 - Mean Squared Error (MSE): 33557643.741\n",
      "Fold 6 - Mean Squared Error (MSE): 33535741.391\n",
      "Fold 7 - Mean Squared Error (MSE): 39926983.212\n",
      "Fold 8 - Mean Squared Error (MSE): 42321565.451\n",
      "Fold 9 - Mean Squared Error (MSE): 47622845.733\n",
      "Fold 10 - Mean Squared Error (MSE): 30426005.788\n",
      "Mean MSE across all folds: 37003521.552\n"
     ]
    }
   ],
   "source": [
    "from pandas import read_csv\n",
    "from sklearn.model_selection import KFold\n",
    "from sklearn.linear_model import Lasso\n",
    "from sklearn.metrics import mean_squared_error\n",
    "import numpy as np\n",
    "\n",
    "# Loading the dataset\n",
    "filename = 'insurance.csv'\n",
    "dataframe = read_csv(filename)\n",
    "array = dataframe.values\n",
    "X = array[:, 0:5]  # Features\n",
    "Y = array[:, 6]  # Target\n",
    "\n",
    "# Set the number of folds for K-Fold Cross Validation\n",
    "num_folds = 10\n",
    "mse_scores = []\n",
    "\n",
    "# Create a Lasso Regression model\n",
    "model = Lasso(alpha=1.0)  # You can adjust the regularization strength (alpha) as needed\n",
    "\n",
    "# Initialize the K-Fold cross-validator\n",
    "kf = KFold(n_splits=num_folds, shuffle=True, random_state=42)\n",
    "\n",
    "# Perform K-Fold Cross Validation\n",
    "for train_index, test_index in kf.split(X):\n",
    "    X_train, X_test = X[train_index], X[test_index]\n",
    "    Y_train, Y_test = Y[train_index], Y[test_index]\n",
    "\n",
    "    # Train the model on the training data\n",
    "    model.fit(X_train, Y_train)\n",
    "\n",
    "    # Make predictions on the test data\n",
    "    Y_pred = model.predict(X_test)\n",
    "\n",
    "    # Calculate the Mean Squared Error (MSE) for this fold\n",
    "    mse = mean_squared_error(Y_test, Y_pred)\n",
    "    mse_scores.append(mse)\n",
    "\n",
    "# Calculate the mean MSE across all folds\n",
    "mean_mse = np.mean(mse_scores)\n",
    "\n",
    "# Display the MSE for each fold\n",
    "for fold, mse in enumerate(mse_scores, start=1):\n",
    "    print(f\"Fold {fold} - Mean Squared Error (MSE): {mse:.3f}\")\n",
    "\n",
    "# Display the mean MSE across all folds\n",
    "print(f\"Mean MSE across all folds: {mean_mse:.3f}\")\n"
   ]
  },
  {
   "cell_type": "markdown",
   "id": "a314587c",
   "metadata": {},
   "source": [
    "#### 6. Ridge Regression"
   ]
  },
  {
   "cell_type": "code",
   "execution_count": 80,
   "id": "953c7ef5",
   "metadata": {},
   "outputs": [
    {
     "name": "stdout",
     "output_type": "stream",
     "text": [
      "Fold 1 - Mean Squared Error (MSE): 32768511.621\n",
      "Fold 2 - Mean Squared Error (MSE): 35804236.747\n",
      "Fold 3 - Mean Squared Error (MSE): 33791956.101\n",
      "Fold 4 - Mean Squared Error (MSE): 40394878.761\n",
      "Fold 5 - Mean Squared Error (MSE): 33564900.348\n",
      "Fold 6 - Mean Squared Error (MSE): 33583726.090\n",
      "Fold 7 - Mean Squared Error (MSE): 39813453.694\n",
      "Fold 8 - Mean Squared Error (MSE): 42197582.789\n",
      "Fold 9 - Mean Squared Error (MSE): 47656964.075\n",
      "Fold 10 - Mean Squared Error (MSE): 30477287.168\n",
      "Mean MSE across all folds: 37005349.740\n"
     ]
    }
   ],
   "source": [
    "from pandas import read_csv\n",
    "from sklearn.model_selection import KFold\n",
    "from sklearn.linear_model import Ridge\n",
    "from sklearn.metrics import mean_squared_error\n",
    "import numpy as np\n",
    "\n",
    "# Loading the dataset\n",
    "filename = 'insurance.csv'\n",
    "dataframe = read_csv(filename)\n",
    "array = dataframe.values\n",
    "X = array[:, 0:5]  # Features\n",
    "Y = array[:, 6]  # Target\n",
    "\n",
    "# Set the number of folds for K-Fold Cross Validation\n",
    "num_folds = 10\n",
    "mse_scores = []\n",
    "\n",
    "# Create a Ridge Regression model\n",
    "model = Ridge(alpha=1.0)  # You can adjust the regularization strength (alpha) as needed\n",
    "\n",
    "# Initialize the K-Fold cross-validator\n",
    "kf = KFold(n_splits=num_folds, shuffle=True, random_state=42)\n",
    "\n",
    "# Perform K-Fold Cross Validation\n",
    "for train_index, test_index in kf.split(X):\n",
    "    X_train, X_test = X[train_index], X[test_index]\n",
    "    Y_train, Y_test = Y[train_index], Y[test_index]\n",
    "\n",
    "    # Train the model on the training data\n",
    "    model.fit(X_train, Y_train)\n",
    "\n",
    "    # Make predictions on the test data\n",
    "    Y_pred = model.predict(X_test)\n",
    "\n",
    "    # Calculate the Mean Squared Error (MSE) for this fold\n",
    "    mse = mean_squared_error(Y_test, Y_pred)\n",
    "    mse_scores.append(mse)\n",
    "\n",
    "# Calculate the mean MSE across all folds\n",
    "mean_mse = np.mean(mse_scores)\n",
    "\n",
    "# Display the MSE for each fold\n",
    "for fold, mse in enumerate(mse_scores, start=1):\n",
    "    print(f\"Fold {fold} - Mean Squared Error (MSE): {mse:.3f}\")\n",
    "\n",
    "# Display the mean MSE across all folds\n",
    "print(f\"Mean MSE across all folds: {mean_mse:.3f}\")"
   ]
  },
  {
   "cell_type": "markdown",
   "id": "9103d449",
   "metadata": {},
   "source": [
    "#### 7. Linear Regression"
   ]
  },
  {
   "cell_type": "code",
   "execution_count": 81,
   "id": "8d21b986",
   "metadata": {},
   "outputs": [
    {
     "name": "stdout",
     "output_type": "stream",
     "text": [
      "Fold 1 - Mean Squared Error (MSE): 32802945.334\n",
      "Fold 2 - Mean Squared Error (MSE): 35708661.083\n",
      "Fold 3 - Mean Squared Error (MSE): 33782750.293\n",
      "Fold 4 - Mean Squared Error (MSE): 40347979.377\n",
      "Fold 5 - Mean Squared Error (MSE): 33559606.243\n",
      "Fold 6 - Mean Squared Error (MSE): 33536207.389\n",
      "Fold 7 - Mean Squared Error (MSE): 39937477.978\n",
      "Fold 8 - Mean Squared Error (MSE): 42326309.135\n",
      "Fold 9 - Mean Squared Error (MSE): 47619600.070\n",
      "Fold 10 - Mean Squared Error (MSE): 30423432.982\n",
      "Mean MSE across all folds: 37004496.989\n"
     ]
    }
   ],
   "source": [
    "from pandas import read_csv\n",
    "from sklearn.model_selection import KFold\n",
    "from sklearn.linear_model import LinearRegression\n",
    "from sklearn.metrics import mean_squared_error\n",
    "import numpy as np\n",
    "\n",
    "# Loading the dataset\n",
    "filename = 'insurance.csv'\n",
    "dataframe = read_csv(filename)\n",
    "array = dataframe.values\n",
    "X = array[:, 0:5]  # Features\n",
    "Y = array[:, 6]  # Target\n",
    "\n",
    "# Set the number of folds for K-Fold Cross Validation\n",
    "num_folds = 10\n",
    "mse_scores = []\n",
    "\n",
    "# Create a Linear Regression model\n",
    "model = LinearRegression()\n",
    "\n",
    "# Initialize the K-Fold cross-validator\n",
    "kf = KFold(n_splits=num_folds, shuffle=True, random_state=42)\n",
    "\n",
    "# Perform K-Fold Cross Validation\n",
    "for train_index, test_index in kf.split(X):\n",
    "    X_train, X_test = X[train_index], X[test_index]\n",
    "    Y_train, Y_test = Y[train_index], Y[test_index]\n",
    "\n",
    "    # Train the model on the training data\n",
    "    model.fit(X_train, Y_train)\n",
    "\n",
    "    # Make predictions on the test data\n",
    "    Y_pred = model.predict(X_test)\n",
    "\n",
    "    # Calculate the Mean Squared Error (MSE) for this fold\n",
    "    mse = mean_squared_error(Y_test, Y_pred)\n",
    "    mse_scores.append(mse)\n",
    "\n",
    "# Calculate the mean MSE across all folds\n",
    "mean_mse = np.mean(mse_scores)\n",
    "\n",
    "# Display the MSE for each fold\n",
    "for fold, mse in enumerate(mse_scores, start=1):\n",
    "    print(f\"Fold {fold} - Mean Squared Error (MSE): {mse:.3f}\")\n",
    "\n",
    "# Display the mean MSE across all folds\n",
    "print(f\"Mean MSE across all folds: {mean_mse:.3f}\")"
   ]
  },
  {
   "cell_type": "markdown",
   "id": "27727fe1",
   "metadata": {},
   "source": [
    "#### 8. Multi-Layer Perceptron (MLP)"
   ]
  },
  {
   "cell_type": "code",
   "execution_count": 82,
   "id": "67a51b4e",
   "metadata": {},
   "outputs": [
    {
     "name": "stderr",
     "output_type": "stream",
     "text": [
      "c:\\Users\\ACER\\AppData\\Local\\Programs\\Python\\Python312\\Lib\\site-packages\\sklearn\\neural_network\\_multilayer_perceptron.py:691: ConvergenceWarning: Stochastic Optimizer: Maximum iterations (250) reached and the optimization hasn't converged yet.\n",
      "  warnings.warn(\n",
      "c:\\Users\\ACER\\AppData\\Local\\Programs\\Python\\Python312\\Lib\\site-packages\\sklearn\\neural_network\\_multilayer_perceptron.py:691: ConvergenceWarning: Stochastic Optimizer: Maximum iterations (250) reached and the optimization hasn't converged yet.\n",
      "  warnings.warn(\n",
      "c:\\Users\\ACER\\AppData\\Local\\Programs\\Python\\Python312\\Lib\\site-packages\\sklearn\\neural_network\\_multilayer_perceptron.py:691: ConvergenceWarning: Stochastic Optimizer: Maximum iterations (250) reached and the optimization hasn't converged yet.\n",
      "  warnings.warn(\n",
      "c:\\Users\\ACER\\AppData\\Local\\Programs\\Python\\Python312\\Lib\\site-packages\\sklearn\\neural_network\\_multilayer_perceptron.py:691: ConvergenceWarning: Stochastic Optimizer: Maximum iterations (250) reached and the optimization hasn't converged yet.\n",
      "  warnings.warn(\n",
      "c:\\Users\\ACER\\AppData\\Local\\Programs\\Python\\Python312\\Lib\\site-packages\\sklearn\\neural_network\\_multilayer_perceptron.py:691: ConvergenceWarning: Stochastic Optimizer: Maximum iterations (250) reached and the optimization hasn't converged yet.\n",
      "  warnings.warn(\n",
      "c:\\Users\\ACER\\AppData\\Local\\Programs\\Python\\Python312\\Lib\\site-packages\\sklearn\\neural_network\\_multilayer_perceptron.py:691: ConvergenceWarning: Stochastic Optimizer: Maximum iterations (250) reached and the optimization hasn't converged yet.\n",
      "  warnings.warn(\n",
      "c:\\Users\\ACER\\AppData\\Local\\Programs\\Python\\Python312\\Lib\\site-packages\\sklearn\\neural_network\\_multilayer_perceptron.py:691: ConvergenceWarning: Stochastic Optimizer: Maximum iterations (250) reached and the optimization hasn't converged yet.\n",
      "  warnings.warn(\n",
      "c:\\Users\\ACER\\AppData\\Local\\Programs\\Python\\Python312\\Lib\\site-packages\\sklearn\\neural_network\\_multilayer_perceptron.py:691: ConvergenceWarning: Stochastic Optimizer: Maximum iterations (250) reached and the optimization hasn't converged yet.\n",
      "  warnings.warn(\n"
     ]
    },
    {
     "name": "stdout",
     "output_type": "stream",
     "text": [
      "Fold 1 - Mean Squared Error (MSE): 111746319.115\n",
      "Fold 2 - Mean Squared Error (MSE): 139540362.846\n",
      "Fold 3 - Mean Squared Error (MSE): 112574235.655\n",
      "Fold 4 - Mean Squared Error (MSE): 132931811.297\n",
      "Fold 5 - Mean Squared Error (MSE): 153662552.248\n",
      "Fold 6 - Mean Squared Error (MSE): 118763327.135\n",
      "Fold 7 - Mean Squared Error (MSE): 108979365.109\n",
      "Fold 8 - Mean Squared Error (MSE): 93082704.690\n",
      "Fold 9 - Mean Squared Error (MSE): 150889797.245\n",
      "Fold 10 - Mean Squared Error (MSE): 112218737.074\n",
      "Mean MSE across all folds: 123438921.241\n"
     ]
    },
    {
     "name": "stderr",
     "output_type": "stream",
     "text": [
      "c:\\Users\\ACER\\AppData\\Local\\Programs\\Python\\Python312\\Lib\\site-packages\\sklearn\\neural_network\\_multilayer_perceptron.py:691: ConvergenceWarning: Stochastic Optimizer: Maximum iterations (250) reached and the optimization hasn't converged yet.\n",
      "  warnings.warn(\n"
     ]
    }
   ],
   "source": [
    "from pandas import read_csv\n",
    "from sklearn.model_selection import KFold\n",
    "from sklearn.neural_network import MLPRegressor\n",
    "from sklearn.metrics import mean_squared_error\n",
    "import numpy as np\n",
    "\n",
    "# Loading the dataset\n",
    "filename = 'insurance.csv'\n",
    "dataframe = read_csv(filename)\n",
    "array = dataframe.values\n",
    "X = array[:, 0:5]  # Features\n",
    "Y = array[:, 6]  # Target\n",
    "\n",
    "# Set the number of folds for K-Fold Cross Validation\n",
    "num_folds = 10\n",
    "mse_scores = []\n",
    "\n",
    "# Create an MLP Regression model\n",
    "model = MLPRegressor(hidden_layer_sizes=(100, 50), activation='relu', solver='adam', max_iter=250, random_state=42)\n",
    "\n",
    "# Initialize the K-Fold cross-validator\n",
    "kf = KFold(n_splits=num_folds, shuffle=True, random_state=42)\n",
    "\n",
    "# Perform K-Fold Cross Validation\n",
    "for train_index, test_index in kf.split(X):\n",
    "    X_train, X_test = X[train_index], X[test_index]\n",
    "    Y_train, Y_test = Y[train_index], Y[test_index]\n",
    "\n",
    "    # Train the model on the training data\n",
    "    model.fit(X_train, Y_train)\n",
    "\n",
    "    # Make predictions on the test data\n",
    "    Y_pred = model.predict(X_test)\n",
    "\n",
    "    # Calculate the Mean Squared Error (MSE) for this fold\n",
    "    mse = mean_squared_error(Y_test, Y_pred)\n",
    "    mse_scores.append(mse)\n",
    "\n",
    "# Calculate the mean MSE across all folds\n",
    "mean_mse = np.mean(mse_scores)\n",
    "\n",
    "# Display the MSE for each fold\n",
    "for fold, mse in enumerate(mse_scores, start=1):\n",
    "    print(f\"Fold {fold} - Mean Squared Error (MSE): {mse:.3f}\")\n",
    "\n",
    "# Display the mean MSE across all folds\n",
    "print(f\"Mean MSE across all folds: {mean_mse:.3f}\")"
   ]
  },
  {
   "cell_type": "markdown",
   "id": "538801c1",
   "metadata": {},
   "source": [
    "#### 9. Random Forest"
   ]
  },
  {
   "cell_type": "code",
   "execution_count": 83,
   "id": "2e6c18f8",
   "metadata": {},
   "outputs": [
    {
     "name": "stdout",
     "output_type": "stream",
     "text": [
      "Fold 1 - Mean Squared Error (MSE): 23314202.527\n",
      "Fold 2 - Mean Squared Error (MSE): 21269279.504\n",
      "Fold 3 - Mean Squared Error (MSE): 22062739.474\n",
      "Fold 4 - Mean Squared Error (MSE): 25857905.063\n",
      "Fold 5 - Mean Squared Error (MSE): 20979305.574\n",
      "Fold 6 - Mean Squared Error (MSE): 27159647.911\n",
      "Fold 7 - Mean Squared Error (MSE): 25115276.427\n",
      "Fold 8 - Mean Squared Error (MSE): 29768690.514\n",
      "Fold 9 - Mean Squared Error (MSE): 35647547.959\n",
      "Fold 10 - Mean Squared Error (MSE): 23769485.053\n",
      "Mean MSE across all folds: 25494408.001\n"
     ]
    },
    {
     "data": {
      "text/plain": [
       "['../CS1/model.joblib']"
      ]
     },
     "execution_count": 83,
     "metadata": {},
     "output_type": "execute_result"
    }
   ],
   "source": [
    "from pandas import read_csv\n",
    "from sklearn.model_selection import KFold\n",
    "from sklearn.ensemble import RandomForestRegressor\n",
    "from sklearn.metrics import mean_squared_error\n",
    "import numpy as np\n",
    "from joblib import dump\n",
    "\n",
    "# Loading the dataset\n",
    "filename = 'insurance.csv'\n",
    "dataframe = read_csv(filename)\n",
    "array = dataframe.values\n",
    "X = array[:, 0:5]  # Features\n",
    "Y = array[:, 6]  # Target\n",
    "\n",
    "# Set the number of folds for K-Fold Cross Validation\n",
    "num_folds = 10\n",
    "mse_scores = []\n",
    "\n",
    "# Create a Random Forest Regression model\n",
    "model = RandomForestRegressor(n_estimators=100, random_state=42)\n",
    "\n",
    "# Initialize the K-Fold cross-validator\n",
    "kf = KFold(n_splits=num_folds, shuffle=True, random_state=42)\n",
    "\n",
    "# Perform K-Fold Cross Validation\n",
    "for train_index, test_index in kf.split(X):\n",
    "    X_train, X_test = X[train_index], X[test_index]\n",
    "    Y_train, Y_test = Y[train_index], Y[test_index]\n",
    "\n",
    "    # Train the model on the training data\n",
    "    model.fit(X_train, Y_train)\n",
    "\n",
    "    # Make predictions on the test data\n",
    "    Y_pred = model.predict(X_test)\n",
    "\n",
    "    # Calculate the Mean Squared Error (MSE) for this fold\n",
    "    mse = mean_squared_error(Y_test, Y_pred)\n",
    "    mse_scores.append(mse)\n",
    "\n",
    "# Calculate the mean MSE across all folds\n",
    "mean_mse = np.mean(mse_scores)\n",
    "\n",
    "# Display the MSE for each fold\n",
    "for fold, mse in enumerate(mse_scores, start=1):\n",
    "    print(f\"Fold {fold} - Mean Squared Error (MSE): {mse:.3f}\")\n",
    "\n",
    "# Display the mean MSE across all folds\n",
    "print(f\"Mean MSE across all folds: {mean_mse:.3f}\")\n",
    "\n",
    "dump(model, '../CS1/model.joblib')"
   ]
  },
  {
   "cell_type": "markdown",
   "id": "ee2d4f49",
   "metadata": {},
   "source": [
    "#### Set A Tuning\n",
    "- ML Algorithm: Random Forest\n",
    "- Sampling Technique: Train/Test Split (80:20) \n",
    "- Regression Metrics: Mean Absolute Error (MAE)"
   ]
  },
  {
   "cell_type": "code",
   "execution_count": 91,
   "id": "c37b829d",
   "metadata": {},
   "outputs": [
    {
     "name": "stdout",
     "output_type": "stream",
     "text": [
      "Mean Absolute Error (MAE): 6912.019\n"
     ]
    }
   ],
   "source": [
    "from pandas import read_csv\n",
    "from sklearn.model_selection import train_test_split\n",
    "from sklearn.svm import SVR\n",
    "from sklearn.metrics import mean_absolute_error\n",
    "\n",
    "# Loading the dataset\n",
    "filename = 'insurance.csv'\n",
    "dataframe = read_csv(filename)\n",
    "array = dataframe.values\n",
    "X = array[:, 0:5]  # Features\n",
    "Y = array[:, 6]  # Target\n",
    "\n",
    "# Splitting the data into a training set and a testing set (80:20 split)\n",
    "X_train, X_test, Y_train, Y_test = train_test_split(X, Y, test_size=0.20, random_state=50)\n",
    "\n",
    "# Support Vector Machine (SVM) model\n",
    "epsilon = 0.1  # Set your epsilon value\n",
    "kernel = 'linear'  # You can also use 'rbf' (radial basis function) or other kernels\n",
    "C = 1.0  # Set your C value\n",
    "\n",
    "model = SVR(epsilon=epsilon, kernel=kernel, C=C)\n",
    "\n",
    "# Training the model on the training data\n",
    "model.fit(X_train, Y_train)\n",
    "\n",
    "# Making predictions on the test data\n",
    "Y_pred = model.predict(X_test)\n",
    "\n",
    "# Calculating the Mean Absolute Error (MAE)\n",
    "mae = mean_absolute_error(Y_test, Y_pred)\n",
    "print(f\"Mean Absolute Error (MAE): {mae:.3f}\")\n"
   ]
  },
  {
   "cell_type": "code",
   "execution_count": 85,
   "id": "12e1157f",
   "metadata": {},
   "outputs": [
    {
     "name": "stdout",
     "output_type": "stream",
     "text": [
      "Mean Absolute Error (MAE): 2669.855\n"
     ]
    }
   ],
   "source": [
    "from pandas import read_csv\n",
    "from sklearn.model_selection import train_test_split\n",
    "from sklearn.ensemble import RandomForestRegressor\n",
    "from sklearn.metrics import mean_absolute_error\n",
    "\n",
    "# Loading the dataset\n",
    "filename = 'insurance.csv'\n",
    "dataframe = read_csv(filename)\n",
    "array = dataframe.values\n",
    "X = array[:, 0:5]  # Features\n",
    "Y = array[:, 6]  # Target\n",
    "\n",
    "# Splitting the data into a training set and a testing set (80:20 split)\n",
    "X_train, X_test, Y_train, Y_test = train_test_split(X, Y, test_size=0.20, random_state=50)\n",
    "\n",
    "# Random Forest Regressor model\n",
    "model = RandomForestRegressor(n_estimators=150, random_state=25, max_depth=None)\n",
    "\n",
    "# Training the model on the training data\n",
    "model.fit(X_train, Y_train)\n",
    "\n",
    "# Making predictions on the test data\n",
    "Y_pred = model.predict(X_test)\n",
    "\n",
    "# Calculating the Mean Absolute Error (MAE)\n",
    "mae = mean_absolute_error(Y_test, Y_pred)\n",
    "print(f\"Mean Absolute Error (MAE): {mae:.3f}\")"
   ]
  },
  {
   "cell_type": "code",
   "execution_count": 86,
   "id": "ec80a861",
   "metadata": {},
   "outputs": [
    {
     "name": "stdout",
     "output_type": "stream",
     "text": [
      "Mean Absolute Error (MAE): 2691.393\n"
     ]
    }
   ],
   "source": [
    "from pandas import read_csv\n",
    "from sklearn.model_selection import train_test_split\n",
    "from sklearn.ensemble import RandomForestRegressor\n",
    "from sklearn.metrics import mean_absolute_error\n",
    "\n",
    "# Loading the dataset\n",
    "filename = 'insurance.csv'\n",
    "dataframe = read_csv(filename)\n",
    "array = dataframe.values\n",
    "X = array[:, 0:5]  # Features\n",
    "Y = array[:, 6]  # Target\n",
    "\n",
    "# Splitting the data into a training set and a testing set (80:20 split)\n",
    "X_train, X_test, Y_train, Y_test = train_test_split(X, Y, test_size=0.20, random_state=50)\n",
    "\n",
    "# Random Forest Regressor model\n",
    "model = RandomForestRegressor(n_estimators=200, random_state=0, max_depth=None)\n",
    "\n",
    "# Training the model on the training data\n",
    "model.fit(X_train, Y_train)\n",
    "\n",
    "# Making predictions on the test data\n",
    "Y_pred = model.predict(X_test)\n",
    "\n",
    "# Calculating the Mean Absolute Error (MAE)\n",
    "mae = mean_absolute_error(Y_test, Y_pred)\n",
    "print(f\"Mean Absolute Error (MAE): {mae:.3f}\")"
   ]
  },
  {
   "cell_type": "markdown",
   "id": "88ebabef",
   "metadata": {},
   "source": [
    "#### Set B Tuning\n",
    "- ML Algorithm: Support Vector Machines (SVM)\n",
    "- Sampling Technique: K-Fold Cross Validation\n",
    "- Regression Metrics: Mean Squared Error (MSE)"
   ]
  },
  {
   "cell_type": "code",
   "execution_count": 93,
   "id": "40e7d690",
   "metadata": {},
   "outputs": [
    {
     "name": "stdout",
     "output_type": "stream",
     "text": [
      "Fold 1 - Mean Absolute Error (MAE): 6001.009\n",
      "Fold 2 - Mean Absolute Error (MAE): 6853.711\n",
      "Fold 3 - Mean Absolute Error (MAE): 6103.746\n",
      "Fold 4 - Mean Absolute Error (MAE): 7217.863\n",
      "Fold 5 - Mean Absolute Error (MAE): 8282.548\n",
      "Fold 6 - Mean Absolute Error (MAE): 6178.653\n",
      "Fold 7 - Mean Absolute Error (MAE): 6176.869\n",
      "Fold 8 - Mean Absolute Error (MAE): 5621.439\n",
      "Fold 9 - Mean Absolute Error (MAE): 7469.451\n",
      "Fold 10 - Mean Absolute Error (MAE): 5640.639\n",
      "Mean MAE across all folds: 6554.593\n"
     ]
    }
   ],
   "source": [
    "from pandas import read_csv\n",
    "from sklearn.model_selection import KFold\n",
    "from sklearn.svm import SVR\n",
    "from sklearn.metrics import mean_absolute_error\n",
    "import numpy as np\n",
    "\n",
    "# Loading the dataset\n",
    "filename = 'insurance.csv'\n",
    "dataframe = read_csv(filename)\n",
    "array = dataframe.values\n",
    "X = array[:, 0:5]  # Features\n",
    "Y = array[:, 6]  # Target\n",
    "\n",
    "# Set the number of folds for K-Fold Cross Validation\n",
    "num_folds = 10\n",
    "mae_scores = []\n",
    "\n",
    "# Create a Support Vector Machine (SVM) Regression model\n",
    "epsilon = 0.2  # Set your epsilon value\n",
    "kernel = 'linear'  # You can also use 'rbf' (radial basis function) or other kernels\n",
    "C = 1.25  # Set your C value\n",
    "\n",
    "model = SVR(epsilon=epsilon, kernel=kernel, C=C)\n",
    "\n",
    "# Initialize the K-Fold cross-validator\n",
    "kf = KFold(n_splits=num_folds, shuffle=True, random_state=42)\n",
    "\n",
    "# Perform K-Fold Cross Validation\n",
    "for train_index, test_index in kf.split(X):\n",
    "    X_train, X_test = X[train_index], X[test_index]\n",
    "    Y_train, Y_test = Y[train_index], Y[test_index]\n",
    "\n",
    "    # Train the model on the training data\n",
    "    model.fit(X_train, Y_train)\n",
    "\n",
    "    # Make predictions on the test data\n",
    "    Y_pred = model.predict(X_test)\n",
    "\n",
    "    # Calculate the Mean Absolute Error (MAE) for this fold\n",
    "    mae = mean_absolute_error(Y_test, Y_pred)\n",
    "    mae_scores.append(mae)\n",
    "\n",
    "# Calculate the mean MAE across all folds\n",
    "mean_mae = np.mean(mae_scores)\n",
    "\n",
    "# Display the MAE for each fold\n",
    "for fold, mae in enumerate(mae_scores, start=1):\n",
    "    print(f\"Fold {fold} - Mean Absolute Error (MAE): {mae:.3f}\")\n",
    "\n",
    "# Display the mean MAE across all folds\n",
    "print(f\"Mean MAE across all folds: {mean_mae:.3f}\")\n"
   ]
  },
  {
   "cell_type": "code",
   "execution_count": 94,
   "id": "8211828d",
   "metadata": {},
   "outputs": [
    {
     "name": "stdout",
     "output_type": "stream",
     "text": [
      "Fold 1 - Mean Absolute Error (MAE): 7460.851\n",
      "Fold 2 - Mean Absolute Error (MAE): 8196.171\n",
      "Fold 3 - Mean Absolute Error (MAE): 6947.435\n",
      "Fold 4 - Mean Absolute Error (MAE): 8272.296\n",
      "Fold 5 - Mean Absolute Error (MAE): 9085.898\n",
      "Fold 6 - Mean Absolute Error (MAE): 7341.842\n",
      "Fold 7 - Mean Absolute Error (MAE): 6989.161\n",
      "Fold 8 - Mean Absolute Error (MAE): 6737.231\n",
      "Fold 9 - Mean Absolute Error (MAE): 8635.806\n",
      "Fold 10 - Mean Absolute Error (MAE): 6887.753\n",
      "Mean MAE across all folds: 7655.444\n"
     ]
    }
   ],
   "source": [
    "from pandas import read_csv\n",
    "from sklearn.model_selection import KFold\n",
    "from sklearn.svm import SVR\n",
    "from sklearn.metrics import mean_absolute_error\n",
    "import numpy as np\n",
    "\n",
    "# Loading the dataset\n",
    "filename = 'insurance.csv'\n",
    "dataframe = read_csv(filename)\n",
    "array = dataframe.values\n",
    "X = array[:, 0:5]  # Features\n",
    "Y = array[:, 6]  # Target\n",
    "\n",
    "# Set the number of folds for K-Fold Cross Validation\n",
    "num_folds = 10\n",
    "mae_scores = []\n",
    "\n",
    "# Create a Support Vector Machine (SVM) Regression model with a polynomial kernel\n",
    "epsilon = 0.2  # Set your epsilon value\n",
    "kernel = 'poly'  # Use a polynomial kernel\n",
    "C = 1.0  # Set your C value\n",
    "\n",
    "model = SVR(epsilon=epsilon, kernel=kernel, C=C)\n",
    "\n",
    "# Initialize the K-Fold cross-validator\n",
    "kf = KFold(n_splits=num_folds, shuffle=True, random_state=42)\n",
    "\n",
    "# Perform K-Fold Cross Validation\n",
    "for train_index, test_index in kf.split(X):\n",
    "    X_train, X_test = X[train_index], X[test_index]\n",
    "    Y_train, Y_test = Y[train_index], Y[test_index]\n",
    "\n",
    "    # Train the model on the training data\n",
    "    model.fit(X_train, Y_train)\n",
    "\n",
    "    # Make predictions on the test data\n",
    "    Y_pred = model.predict(X_test)\n",
    "\n",
    "    # Calculate the Mean Absolute Error (MAE) for this fold\n",
    "    mae = mean_absolute_error(Y_test, Y_pred)\n",
    "    mae_scores.append(mae)\n",
    "\n",
    "# Calculate the mean MAE across all folds\n",
    "mean_mae = np.mean(mae_scores)\n",
    "\n",
    "# Display the MAE for each fold\n",
    "for fold, mae in enumerate(mae_scores, start=1):\n",
    "    print(f\"Fold {fold} - Mean Absolute Error (MAE): {mae:.3f}\")\n",
    "\n",
    "# Display the mean MAE across all folds\n",
    "print(f\"Mean MAE across all folds: {mean_mae:.3f}\")\n"
   ]
  },
  {
   "cell_type": "code",
   "execution_count": 89,
   "id": "27c1049e",
   "metadata": {},
   "outputs": [
    {
     "name": "stdout",
     "output_type": "stream",
     "text": [
      "Fold 1 - Mean Squared Error (MSE): 23456021.190\n",
      "Fold 2 - Mean Squared Error (MSE): 20989722.103\n",
      "Fold 3 - Mean Squared Error (MSE): 22363489.711\n",
      "Fold 4 - Mean Squared Error (MSE): 27287909.223\n",
      "Fold 5 - Mean Squared Error (MSE): 20095021.109\n",
      "Fold 6 - Mean Squared Error (MSE): 27765124.138\n",
      "Fold 7 - Mean Squared Error (MSE): 24124779.664\n",
      "Fold 8 - Mean Squared Error (MSE): 29298183.313\n",
      "Fold 9 - Mean Squared Error (MSE): 35949867.546\n",
      "Fold 10 - Mean Squared Error (MSE): 23690426.517\n",
      "Mean MSE across all folds: 25502054.451\n"
     ]
    }
   ],
   "source": [
    "from pandas import read_csv\n",
    "from sklearn.model_selection import KFold\n",
    "from sklearn.ensemble import RandomForestRegressor\n",
    "from sklearn.metrics import mean_squared_error\n",
    "import numpy as np\n",
    "\n",
    "# Loading the dataset\n",
    "filename = 'insurance.csv'\n",
    "dataframe = read_csv(filename)\n",
    "array = dataframe.values\n",
    "X = array[:, 0:5]  # Features\n",
    "Y = array[:, 6]  # Target\n",
    "# Set the number of folds for K-Fold Cross Validation\n",
    "num_folds = 10\n",
    "mse_scores = []\n",
    "\n",
    "# Create a Random Forest Regression model\n",
    "model = RandomForestRegressor(n_estimators=200, random_state=22, max_depth=None)\n",
    "\n",
    "# Initialize the K-Fold cross-validator\n",
    "kf = KFold(n_splits=num_folds, shuffle=True, random_state=42)\n",
    "\n",
    "# Perform K-Fold Cross Validation\n",
    "for train_index, test_index in kf.split(X):\n",
    "    X_train, X_test = X[train_index], X[test_index]\n",
    "    Y_train, Y_test = Y[train_index], Y[test_index]\n",
    "\n",
    "    # Train the model on the training data\n",
    "    model.fit(X_train, Y_train)\n",
    "\n",
    "    # Make predictions on the test data\n",
    "    Y_pred = model.predict(X_test)\n",
    "\n",
    "    # Calculate the Mean Squared Error (MSE) for this fold\n",
    "    mse = mean_squared_error(Y_test, Y_pred)\n",
    "    mse_scores.append(mse)\n",
    "\n",
    "# Calculate the mean MSE across all folds\n",
    "mean_mse = np.mean(mse_scores)\n",
    "\n",
    "# Display the MSE for each fold\n",
    "for fold, mse in enumerate(mse_scores, start=1):\n",
    "    print(f\"Fold {fold} - Mean Squared Error (MSE): {mse:.3f}\")\n",
    "\n",
    "# Display the mean MSE across all folds\n",
    "print(f\"Mean MSE across all folds: {mean_mse:.3f}\")"
   ]
  }
 ],
 "metadata": {
  "kernelspec": {
   "display_name": "Python 3 (ipykernel)",
   "language": "python",
   "name": "python3"
  },
  "language_info": {
   "codemirror_mode": {
    "name": "ipython",
    "version": 3
   },
   "file_extension": ".py",
   "mimetype": "text/x-python",
   "name": "python",
   "nbconvert_exporter": "python",
   "pygments_lexer": "ipython3",
   "version": "3.12.0"
  }
 },
 "nbformat": 4,
 "nbformat_minor": 5
}
